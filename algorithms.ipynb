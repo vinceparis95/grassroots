{
 "cells": [
  {
   "cell_type": "code",
   "execution_count": 248,
   "id": "ad781d00-7d20-4ff9-bd45-8e41de5046b5",
   "metadata": {},
   "outputs": [
    {
     "name": "stdout",
     "output_type": "stream",
     "text": [
      "args = Any[:gen, :ideas]\n",
      "Expr\n",
      "  head: Symbol function\n",
      "  args: Array{Any}((2,))\n",
      "    1: Expr\n",
      "      head: Symbol call\n",
      "      args: Array{Any}((2,))\n",
      "        1: Symbol gen\n",
      "        2: Symbol li\n",
      "    2: Expr\n",
      "      head: Symbol block\n",
      "      args: Array{Any}((7,))\n",
      "        1: LineNumberNode\n",
      "          line: Int64 1\n",
      "          file: Symbol none\n",
      "        2: LineNumberNode\n",
      "          line: Int64 2\n",
      "          file: Symbol none\n",
      "        3: Expr\n",
      "          head: Symbol =\n",
      "          args: Array{Any}((2,))\n",
      "            1: Symbol fruit\n",
      "            2: Int64 0\n",
      "        4: LineNumberNode\n",
      "          line: Int64 3\n",
      "          file: Symbol none\n",
      "        5: Expr\n",
      "          head: Symbol for\n",
      "          args: Array{Any}((2,))\n",
      "            1: Expr\n",
      "              head: Symbol =\n",
      "              args: Array{Any}((2,))\n",
      "                1: Symbol i\n",
      "                2: Symbol li\n",
      "            2: Expr\n",
      "              head: Symbol block\n",
      "              args: Array{Any}((2,))\n",
      "                1: LineNumberNode\n",
      "                2: Expr\n",
      "        6: LineNumberNode\n",
      "          line: Int64 6\n",
      "          file: Symbol none\n",
      "        7: Expr\n",
      "          head: Symbol return\n",
      "          args: Array{Any}((1,))\n",
      "            1: Symbol fruit\n"
     ]
    }
   ],
   "source": [
    "ideas = [\"a\",\"b\",\"c\"]\n",
    "\n",
    "t = Meta.parse(\"function gen(li)\n",
    "    fruit = 0\n",
    "    for i in li\n",
    "        fruit+=1\n",
    "    end\n",
    "    return fruit\n",
    "end\")\n",
    "\n",
    "e = Meta.parse(\"gen(ideas)\")\n",
    "\n",
    "print(\"args = \", e.args, \"\\n\")\n",
    "\n",
    "eval(t)\n",
    "\n",
    "dump(t)\n",
    "\n"
   ]
  },
  {
   "cell_type": "code",
   "execution_count": null,
   "id": "c63c7547-aa86-4003-8c60-8e9c13df8dd4",
   "metadata": {},
   "outputs": [],
   "source": []
  },
  {
   "cell_type": "code",
   "execution_count": null,
   "id": "783a1f67-4c99-4928-87d7-df3a28253a80",
   "metadata": {},
   "outputs": [],
   "source": []
  }
 ],
 "metadata": {
  "kernelspec": {
   "display_name": "Julia 1.6.3",
   "language": "julia",
   "name": "julia-1.6"
  },
  "language_info": {
   "file_extension": ".jl",
   "mimetype": "application/julia",
   "name": "julia",
   "version": "1.6.3"
  }
 },
 "nbformat": 4,
 "nbformat_minor": 5
}
